{
 "cells": [
  {
   "cell_type": "code",
   "execution_count": 7,
   "metadata": {},
   "outputs": [],
   "source": [
    "import pandas as pd\n",
    "import numpy as np"
   ]
  },
  {
   "cell_type": "code",
   "execution_count": 8,
   "metadata": {},
   "outputs": [],
   "source": [
    "#Import csv into pandas as dataframes \n",
    "\n",
    "#all of the rollcall votes with \n",
    "rollcall_df = pd.read_csv('C:/Users/wills/Desktop/code/data/datasets_417872_835347_house_rollcall_info_116.csv')\n",
    "#data in voting on \n",
    "legislation_df = pd.read_csv('C:/Users/wills/Desktop/code/data/house_legislation_116.csv')\n",
    "rollcallVotes_df = pd.read_csv('C:/Users/wills/Desktop/code/data/house_rollcall_votes_116.csv')\n",
    "members_df = pd.read_csv('C:/Users/wills/Desktop/code/data/datasets_417872_835347_house_members_116 (1).csv')"
   ]
  },
  {
   "cell_type": "code",
   "execution_count": 9,
   "metadata": {},
   "outputs": [
    {
     "name": "stdout",
     "output_type": "stream",
     "text": [
      "<class 'pandas.core.frame.DataFrame'>\n",
      "RangeIndex: 642 entries, 0 to 641\n",
      "Data columns (total 10 columns):\n",
      " #   Column       Non-Null Count  Dtype \n",
      "---  ------       --------------  ----- \n",
      " 0   rollcall_id  642 non-null    object\n",
      " 1   roll_num     642 non-null    int64 \n",
      " 2   date         642 non-null    object\n",
      " 3   bill_id      641 non-null    object\n",
      " 4   question     642 non-null    object\n",
      " 5   result       642 non-null    object\n",
      " 6   description  641 non-null    object\n",
      " 7   year         642 non-null    int64 \n",
      " 8   congress     642 non-null    int64 \n",
      " 9   session      642 non-null    int64 \n",
      "dtypes: int64(4), object(6)\n",
      "memory usage: 50.3+ KB\n"
     ]
    }
   ],
   "source": [
    "#rollcal data info\n",
    "rollcall_df.info()"
   ]
  },
  {
   "cell_type": "code",
   "execution_count": 10,
   "metadata": {
    "scrolled": true
   },
   "outputs": [
    {
     "data": {
      "text/html": [
       "<div>\n",
       "<style scoped>\n",
       "    .dataframe tbody tr th:only-of-type {\n",
       "        vertical-align: middle;\n",
       "    }\n",
       "\n",
       "    .dataframe tbody tr th {\n",
       "        vertical-align: top;\n",
       "    }\n",
       "\n",
       "    .dataframe thead th {\n",
       "        text-align: right;\n",
       "    }\n",
       "</style>\n",
       "<table border=\"1\" class=\"dataframe\">\n",
       "  <thead>\n",
       "    <tr style=\"text-align: right;\">\n",
       "      <th></th>\n",
       "      <th>rollcall_id</th>\n",
       "      <th>roll_num</th>\n",
       "      <th>date</th>\n",
       "      <th>bill_id</th>\n",
       "      <th>question</th>\n",
       "      <th>result</th>\n",
       "      <th>description</th>\n",
       "      <th>year</th>\n",
       "      <th>congress</th>\n",
       "      <th>session</th>\n",
       "    </tr>\n",
       "  </thead>\n",
       "  <tbody>\n",
       "    <tr>\n",
       "      <th>0</th>\n",
       "      <td>2019:001</td>\n",
       "      <td>1</td>\n",
       "      <td>3-Jan</td>\n",
       "      <td>QUORUM</td>\n",
       "      <td>Call by States</td>\n",
       "      <td>P</td>\n",
       "      <td>NaN</td>\n",
       "      <td>2019</td>\n",
       "      <td>116</td>\n",
       "      <td>1</td>\n",
       "    </tr>\n",
       "    <tr>\n",
       "      <th>1</th>\n",
       "      <td>2019:002</td>\n",
       "      <td>2</td>\n",
       "      <td>3-Jan</td>\n",
       "      <td>NaN</td>\n",
       "      <td>Election of the Speaker</td>\n",
       "      <td>P</td>\n",
       "      <td></td>\n",
       "      <td>2019</td>\n",
       "      <td>116</td>\n",
       "      <td>1</td>\n",
       "    </tr>\n",
       "    <tr>\n",
       "      <th>2</th>\n",
       "      <td>2019:003</td>\n",
       "      <td>3</td>\n",
       "      <td>3-Jan</td>\n",
       "      <td>H.RES.5</td>\n",
       "      <td>On Motion to Table the Motion to Refer</td>\n",
       "      <td>P</td>\n",
       "      <td>Providing for consideration of H.Res. 6, adopt...</td>\n",
       "      <td>2019</td>\n",
       "      <td>116</td>\n",
       "      <td>1</td>\n",
       "    </tr>\n",
       "    <tr>\n",
       "      <th>3</th>\n",
       "      <td>2019:004</td>\n",
       "      <td>4</td>\n",
       "      <td>3-Jan</td>\n",
       "      <td>H.RES.5</td>\n",
       "      <td>On Ordering the Previous Question</td>\n",
       "      <td>P</td>\n",
       "      <td>Providing for consideration of H.Res. 6, adopt...</td>\n",
       "      <td>2019</td>\n",
       "      <td>116</td>\n",
       "      <td>1</td>\n",
       "    </tr>\n",
       "    <tr>\n",
       "      <th>4</th>\n",
       "      <td>2019:005</td>\n",
       "      <td>5</td>\n",
       "      <td>3-Jan</td>\n",
       "      <td>H.RES.5</td>\n",
       "      <td>On Motion to Commit with Instructions</td>\n",
       "      <td>F</td>\n",
       "      <td>Providing for consideration of H.Res. 6, adopt...</td>\n",
       "      <td>2019</td>\n",
       "      <td>116</td>\n",
       "      <td>1</td>\n",
       "    </tr>\n",
       "  </tbody>\n",
       "</table>\n",
       "</div>"
      ],
      "text/plain": [
       "  rollcall_id  roll_num   date  bill_id  \\\n",
       "0    2019:001         1  3-Jan   QUORUM   \n",
       "1    2019:002         2  3-Jan      NaN   \n",
       "2    2019:003         3  3-Jan  H.RES.5   \n",
       "3    2019:004         4  3-Jan  H.RES.5   \n",
       "4    2019:005         5  3-Jan  H.RES.5   \n",
       "\n",
       "                                 question result  \\\n",
       "0                          Call by States      P   \n",
       "1                 Election of the Speaker      P   \n",
       "2  On Motion to Table the Motion to Refer      P   \n",
       "3       On Ordering the Previous Question      P   \n",
       "4   On Motion to Commit with Instructions      F   \n",
       "\n",
       "                                         description  year  congress  session  \n",
       "0                                                NaN  2019       116        1  \n",
       "1                                                     2019       116        1  \n",
       "2  Providing for consideration of H.Res. 6, adopt...  2019       116        1  \n",
       "3  Providing for consideration of H.Res. 6, adopt...  2019       116        1  \n",
       "4  Providing for consideration of H.Res. 6, adopt...  2019       116        1  "
      ]
     },
     "execution_count": 10,
     "metadata": {},
     "output_type": "execute_result"
    }
   ],
   "source": [
    "#rollcall data table preview\n",
    "rollcall_df.head()"
   ]
  },
  {
   "cell_type": "code",
   "execution_count": 11,
   "metadata": {},
   "outputs": [
    {
     "name": "stdout",
     "output_type": "stream",
     "text": [
      "<class 'pandas.core.frame.DataFrame'>\n",
      "RangeIndex: 5806 entries, 0 to 5805\n",
      "Data columns (total 13 columns):\n",
      " #   Column           Non-Null Count  Dtype \n",
      "---  ------           --------------  ----- \n",
      " 0   bill_id          5806 non-null   object\n",
      " 1   title            5806 non-null   object\n",
      " 2   sponsor          5806 non-null   object\n",
      " 3   cosponsors       5806 non-null   object\n",
      " 4   related_bills    5806 non-null   object\n",
      " 5   policy_area      5570 non-null   object\n",
      " 6   subjects         5806 non-null   object\n",
      " 7   committees       5806 non-null   object\n",
      " 8   bill_progress    5806 non-null   object\n",
      " 9   summary          2426 non-null   object\n",
      " 10  date_introduced  5782 non-null   object\n",
      " 11  number           5806 non-null   int64 \n",
      " 12  bill_type        5806 non-null   object\n",
      "dtypes: int64(1), object(12)\n",
      "memory usage: 589.8+ KB\n"
     ]
    }
   ],
   "source": [
    "#Info on legislation data table\n",
    "legislation_df.info()"
   ]
  },
  {
   "cell_type": "code",
   "execution_count": 12,
   "metadata": {
    "scrolled": true
   },
   "outputs": [
    {
     "data": {
      "text/html": [
       "<div>\n",
       "<style scoped>\n",
       "    .dataframe tbody tr th:only-of-type {\n",
       "        vertical-align: middle;\n",
       "    }\n",
       "\n",
       "    .dataframe tbody tr th {\n",
       "        vertical-align: top;\n",
       "    }\n",
       "\n",
       "    .dataframe thead th {\n",
       "        text-align: right;\n",
       "    }\n",
       "</style>\n",
       "<table border=\"1\" class=\"dataframe\">\n",
       "  <thead>\n",
       "    <tr style=\"text-align: right;\">\n",
       "      <th></th>\n",
       "      <th>bill_id</th>\n",
       "      <th>title</th>\n",
       "      <th>sponsor</th>\n",
       "      <th>cosponsors</th>\n",
       "      <th>related_bills</th>\n",
       "      <th>policy_area</th>\n",
       "      <th>subjects</th>\n",
       "      <th>committees</th>\n",
       "      <th>bill_progress</th>\n",
       "      <th>summary</th>\n",
       "      <th>date_introduced</th>\n",
       "      <th>number</th>\n",
       "      <th>bill_type</th>\n",
       "    </tr>\n",
       "  </thead>\n",
       "  <tbody>\n",
       "    <tr>\n",
       "      <th>0</th>\n",
       "      <td>H.R.1</td>\n",
       "      <td>To expand Americans' access to the ballot box,...</td>\n",
       "      <td>S001168</td>\n",
       "      <td>['P000197', 'A000370', 'A000376', 'B001300', '...</td>\n",
       "      <td>['H.R.44', 'H.R.93', 'H.R.137', 'H.R.138', 'H....</td>\n",
       "      <td>Government Operations and Politics</td>\n",
       "      <td>['Administrative law and regulatory procedures...</td>\n",
       "      <td>['House Administration', 'House Intelligence (...</td>\n",
       "      <td>Passed House</td>\n",
       "      <td>This bill addresses voter access, election int...</td>\n",
       "      <td>2019-01-03</td>\n",
       "      <td>1</td>\n",
       "      <td>H.R.</td>\n",
       "    </tr>\n",
       "    <tr>\n",
       "      <th>1</th>\n",
       "      <td>H.R.3</td>\n",
       "      <td>To establish a fair price negotiation program,...</td>\n",
       "      <td>P000034</td>\n",
       "      <td>['N000015', 'S000185', 'L000557', 'K000382', '...</td>\n",
       "      <td>['H.R.4619', 'H.R.4649', 'H8607', 'H.R.4663']</td>\n",
       "      <td>Health</td>\n",
       "      <td>[]</td>\n",
       "      <td>['House Energy and Commerce', 'House Ways and ...</td>\n",
       "      <td>Introduced</td>\n",
       "      <td>This bill establishes several programs and req...</td>\n",
       "      <td>2019-09-19</td>\n",
       "      <td>3</td>\n",
       "      <td>H.R.</td>\n",
       "    </tr>\n",
       "    <tr>\n",
       "      <th>2</th>\n",
       "      <td>H.R.4</td>\n",
       "      <td>To amend the Voting Rights Act of 1965 to revi...</td>\n",
       "      <td>S001185</td>\n",
       "      <td>['L000287', 'P000197', 'H000874', 'C000537', '...</td>\n",
       "      <td>['H.R.1799', 'S.561']</td>\n",
       "      <td>Government Operations and Politics</td>\n",
       "      <td>['Civil actions and liability', 'Elections, vo...</td>\n",
       "      <td>['House Judiciary']</td>\n",
       "      <td>Introduced</td>\n",
       "      <td>NaN</td>\n",
       "      <td>2019-02-26</td>\n",
       "      <td>4</td>\n",
       "      <td>H.R.</td>\n",
       "    </tr>\n",
       "    <tr>\n",
       "      <th>3</th>\n",
       "      <td>H.R.5</td>\n",
       "      <td>To prohibit discrimination on the basis of sex...</td>\n",
       "      <td>C001084</td>\n",
       "      <td>['F000466', 'C001119', 'D000629', 'H001087', '...</td>\n",
       "      <td>['H.Res.377', 'S.788']</td>\n",
       "      <td>Civil Rights and Liberties, Minority Issues</td>\n",
       "      <td>['Civil actions and liability', 'Consumer cred...</td>\n",
       "      <td>['House Judiciary', 'House Education and Labor...</td>\n",
       "      <td>Passed House</td>\n",
       "      <td>This bill prohibits discrimination based on se...</td>\n",
       "      <td>2019-03-13</td>\n",
       "      <td>5</td>\n",
       "      <td>H.R.</td>\n",
       "    </tr>\n",
       "    <tr>\n",
       "      <th>4</th>\n",
       "      <td>H.R.6</td>\n",
       "      <td>To authorize the cancellation of removal and a...</td>\n",
       "      <td>R000486</td>\n",
       "      <td>['V000081', 'C001067', 'A000371', 'B001300', '...</td>\n",
       "      <td>['H.R.2820', 'H.R.2821', 'H.Res.415', 'S.874']</td>\n",
       "      <td>Immigration</td>\n",
       "      <td>['Administrative law and regulatory procedures...</td>\n",
       "      <td>['House Judiciary', 'House Education and Labor']</td>\n",
       "      <td>Passed House</td>\n",
       "      <td>This bill cancels and prohibits removal procee...</td>\n",
       "      <td>2019-03-12</td>\n",
       "      <td>6</td>\n",
       "      <td>H.R.</td>\n",
       "    </tr>\n",
       "  </tbody>\n",
       "</table>\n",
       "</div>"
      ],
      "text/plain": [
       "  bill_id                                              title  sponsor  \\\n",
       "0   H.R.1  To expand Americans' access to the ballot box,...  S001168   \n",
       "1   H.R.3  To establish a fair price negotiation program,...  P000034   \n",
       "2   H.R.4  To amend the Voting Rights Act of 1965 to revi...  S001185   \n",
       "3   H.R.5  To prohibit discrimination on the basis of sex...  C001084   \n",
       "4   H.R.6  To authorize the cancellation of removal and a...  R000486   \n",
       "\n",
       "                                          cosponsors  \\\n",
       "0  ['P000197', 'A000370', 'A000376', 'B001300', '...   \n",
       "1  ['N000015', 'S000185', 'L000557', 'K000382', '...   \n",
       "2  ['L000287', 'P000197', 'H000874', 'C000537', '...   \n",
       "3  ['F000466', 'C001119', 'D000629', 'H001087', '...   \n",
       "4  ['V000081', 'C001067', 'A000371', 'B001300', '...   \n",
       "\n",
       "                                       related_bills  \\\n",
       "0  ['H.R.44', 'H.R.93', 'H.R.137', 'H.R.138', 'H....   \n",
       "1      ['H.R.4619', 'H.R.4649', 'H8607', 'H.R.4663']   \n",
       "2                              ['H.R.1799', 'S.561']   \n",
       "3                             ['H.Res.377', 'S.788']   \n",
       "4     ['H.R.2820', 'H.R.2821', 'H.Res.415', 'S.874']   \n",
       "\n",
       "                                   policy_area  \\\n",
       "0           Government Operations and Politics   \n",
       "1                                       Health   \n",
       "2           Government Operations and Politics   \n",
       "3  Civil Rights and Liberties, Minority Issues   \n",
       "4                                  Immigration   \n",
       "\n",
       "                                            subjects  \\\n",
       "0  ['Administrative law and regulatory procedures...   \n",
       "1                                                 []   \n",
       "2  ['Civil actions and liability', 'Elections, vo...   \n",
       "3  ['Civil actions and liability', 'Consumer cred...   \n",
       "4  ['Administrative law and regulatory procedures...   \n",
       "\n",
       "                                          committees bill_progress  \\\n",
       "0  ['House Administration', 'House Intelligence (...  Passed House   \n",
       "1  ['House Energy and Commerce', 'House Ways and ...    Introduced   \n",
       "2                                ['House Judiciary']    Introduced   \n",
       "3  ['House Judiciary', 'House Education and Labor...  Passed House   \n",
       "4   ['House Judiciary', 'House Education and Labor']  Passed House   \n",
       "\n",
       "                                             summary date_introduced  number  \\\n",
       "0  This bill addresses voter access, election int...      2019-01-03       1   \n",
       "1  This bill establishes several programs and req...      2019-09-19       3   \n",
       "2                                                NaN      2019-02-26       4   \n",
       "3  This bill prohibits discrimination based on se...      2019-03-13       5   \n",
       "4  This bill cancels and prohibits removal procee...      2019-03-12       6   \n",
       "\n",
       "  bill_type  \n",
       "0      H.R.  \n",
       "1      H.R.  \n",
       "2      H.R.  \n",
       "3      H.R.  \n",
       "4      H.R.  "
      ]
     },
     "execution_count": 12,
     "metadata": {},
     "output_type": "execute_result"
    }
   ],
   "source": [
    "#legislation data table preview\n",
    "legislation_df.head()"
   ]
  },
  {
   "cell_type": "code",
   "execution_count": 13,
   "metadata": {},
   "outputs": [
    {
     "name": "stdout",
     "output_type": "stream",
     "text": [
      "<class 'pandas.core.frame.DataFrame'>\n",
      "RangeIndex: 443 entries, 0 to 442\n",
      "Columns: 643 entries, name_id to 2019:630\n",
      "dtypes: object(643)\n",
      "memory usage: 2.2+ MB\n"
     ]
    }
   ],
   "source": [
    "#Rollcall Votes by column with the name ID info\n",
    "#This is a key table to match with the above more specific rollcall data\n",
    "rollcallVotes_df.info()"
   ]
  },
  {
   "cell_type": "code",
   "execution_count": 14,
   "metadata": {},
   "outputs": [
    {
     "data": {
      "text/html": [
       "<div>\n",
       "<style scoped>\n",
       "    .dataframe tbody tr th:only-of-type {\n",
       "        vertical-align: middle;\n",
       "    }\n",
       "\n",
       "    .dataframe tbody tr th {\n",
       "        vertical-align: top;\n",
       "    }\n",
       "\n",
       "    .dataframe thead th {\n",
       "        text-align: right;\n",
       "    }\n",
       "</style>\n",
       "<table border=\"1\" class=\"dataframe\">\n",
       "  <thead>\n",
       "    <tr style=\"text-align: right;\">\n",
       "      <th></th>\n",
       "      <th>name_id</th>\n",
       "      <th>2019:641</th>\n",
       "      <th>2019:639</th>\n",
       "      <th>2019:640</th>\n",
       "      <th>2019:635</th>\n",
       "      <th>2019:636</th>\n",
       "      <th>2019:642</th>\n",
       "      <th>2019:634</th>\n",
       "      <th>2019:637</th>\n",
       "      <th>2019:638</th>\n",
       "      <th>...</th>\n",
       "      <th>2019:627</th>\n",
       "      <th>2019:625</th>\n",
       "      <th>2019:628</th>\n",
       "      <th>2019:624</th>\n",
       "      <th>2019:620</th>\n",
       "      <th>2019:632</th>\n",
       "      <th>2019:629</th>\n",
       "      <th>2019:631</th>\n",
       "      <th>2019:633</th>\n",
       "      <th>2019:630</th>\n",
       "    </tr>\n",
       "  </thead>\n",
       "  <tbody>\n",
       "    <tr>\n",
       "      <th>0</th>\n",
       "      <td>A000374</td>\n",
       "      <td>No</td>\n",
       "      <td>Aye</td>\n",
       "      <td>No</td>\n",
       "      <td>Yea</td>\n",
       "      <td>Yea</td>\n",
       "      <td>No</td>\n",
       "      <td>Nay</td>\n",
       "      <td>Aye</td>\n",
       "      <td>Aye</td>\n",
       "      <td>...</td>\n",
       "      <td>Yea</td>\n",
       "      <td>Nay</td>\n",
       "      <td>Nay</td>\n",
       "      <td>No</td>\n",
       "      <td>Aye</td>\n",
       "      <td>Nay</td>\n",
       "      <td>Nay</td>\n",
       "      <td>Nay</td>\n",
       "      <td>Nay</td>\n",
       "      <td>Nay</td>\n",
       "    </tr>\n",
       "    <tr>\n",
       "      <th>1</th>\n",
       "      <td>A000370</td>\n",
       "      <td>Aye</td>\n",
       "      <td>Aye</td>\n",
       "      <td>Aye</td>\n",
       "      <td>Yea</td>\n",
       "      <td>Yea</td>\n",
       "      <td>Aye</td>\n",
       "      <td>Yea</td>\n",
       "      <td>No</td>\n",
       "      <td>Aye</td>\n",
       "      <td>...</td>\n",
       "      <td>Yea</td>\n",
       "      <td>Yea</td>\n",
       "      <td>Yea</td>\n",
       "      <td>Aye</td>\n",
       "      <td>No</td>\n",
       "      <td>Yea</td>\n",
       "      <td>Yea</td>\n",
       "      <td>Yea</td>\n",
       "      <td>Yea</td>\n",
       "      <td>Yea</td>\n",
       "    </tr>\n",
       "    <tr>\n",
       "      <th>2</th>\n",
       "      <td>A000055</td>\n",
       "      <td>No</td>\n",
       "      <td>Aye</td>\n",
       "      <td>No</td>\n",
       "      <td>Yea</td>\n",
       "      <td>Yea</td>\n",
       "      <td>No</td>\n",
       "      <td>Nay</td>\n",
       "      <td>Aye</td>\n",
       "      <td>Aye</td>\n",
       "      <td>...</td>\n",
       "      <td>Yea</td>\n",
       "      <td>Yea</td>\n",
       "      <td>Nay</td>\n",
       "      <td>No</td>\n",
       "      <td>Aye</td>\n",
       "      <td>Nay</td>\n",
       "      <td>Nay</td>\n",
       "      <td>Nay</td>\n",
       "      <td>Nay</td>\n",
       "      <td>Nay</td>\n",
       "    </tr>\n",
       "    <tr>\n",
       "      <th>3</th>\n",
       "      <td>A000371</td>\n",
       "      <td>Not Voting</td>\n",
       "      <td>Not Voting</td>\n",
       "      <td>Not Voting</td>\n",
       "      <td>Yea</td>\n",
       "      <td>Yea</td>\n",
       "      <td>Not Voting</td>\n",
       "      <td>Yea</td>\n",
       "      <td>Not Voting</td>\n",
       "      <td>Not Voting</td>\n",
       "      <td>...</td>\n",
       "      <td>Yea</td>\n",
       "      <td>Yea</td>\n",
       "      <td>Yea</td>\n",
       "      <td>Aye</td>\n",
       "      <td>No</td>\n",
       "      <td>Yea</td>\n",
       "      <td>Yea</td>\n",
       "      <td>Yea</td>\n",
       "      <td>Yea</td>\n",
       "      <td>Yea</td>\n",
       "    </tr>\n",
       "    <tr>\n",
       "      <th>4</th>\n",
       "      <td>A000372</td>\n",
       "      <td>No</td>\n",
       "      <td>Aye</td>\n",
       "      <td>No</td>\n",
       "      <td>Yea</td>\n",
       "      <td>Yea</td>\n",
       "      <td>No</td>\n",
       "      <td>Nay</td>\n",
       "      <td>Aye</td>\n",
       "      <td>Aye</td>\n",
       "      <td>...</td>\n",
       "      <td>Nay</td>\n",
       "      <td>Nay</td>\n",
       "      <td>Nay</td>\n",
       "      <td>No</td>\n",
       "      <td>Aye</td>\n",
       "      <td>Nay</td>\n",
       "      <td>Nay</td>\n",
       "      <td>Nay</td>\n",
       "      <td>Nay</td>\n",
       "      <td>Nay</td>\n",
       "    </tr>\n",
       "  </tbody>\n",
       "</table>\n",
       "<p>5 rows × 643 columns</p>\n",
       "</div>"
      ],
      "text/plain": [
       "   name_id    2019:641    2019:639    2019:640 2019:635 2019:636    2019:642  \\\n",
       "0  A000374          No         Aye          No      Yea      Yea          No   \n",
       "1  A000370         Aye         Aye         Aye      Yea      Yea         Aye   \n",
       "2  A000055          No         Aye          No      Yea      Yea          No   \n",
       "3  A000371  Not Voting  Not Voting  Not Voting      Yea      Yea  Not Voting   \n",
       "4  A000372          No         Aye          No      Yea      Yea          No   \n",
       "\n",
       "  2019:634    2019:637    2019:638  ... 2019:627 2019:625 2019:628 2019:624  \\\n",
       "0      Nay         Aye         Aye  ...      Yea      Nay      Nay       No   \n",
       "1      Yea          No         Aye  ...      Yea      Yea      Yea      Aye   \n",
       "2      Nay         Aye         Aye  ...      Yea      Yea      Nay       No   \n",
       "3      Yea  Not Voting  Not Voting  ...      Yea      Yea      Yea      Aye   \n",
       "4      Nay         Aye         Aye  ...      Nay      Nay      Nay       No   \n",
       "\n",
       "  2019:620 2019:632 2019:629 2019:631 2019:633 2019:630  \n",
       "0      Aye      Nay      Nay      Nay      Nay      Nay  \n",
       "1       No      Yea      Yea      Yea      Yea      Yea  \n",
       "2      Aye      Nay      Nay      Nay      Nay      Nay  \n",
       "3       No      Yea      Yea      Yea      Yea      Yea  \n",
       "4      Aye      Nay      Nay      Nay      Nay      Nay  \n",
       "\n",
       "[5 rows x 643 columns]"
      ]
     },
     "execution_count": 14,
     "metadata": {},
     "output_type": "execute_result"
    }
   ],
   "source": [
    "#Rollcall Votes by name_id table preview\n",
    "rollcallVotes_df.head()"
   ]
  },
  {
   "cell_type": "code",
   "execution_count": 15,
   "metadata": {},
   "outputs": [
    {
     "name": "stdout",
     "output_type": "stream",
     "text": [
      "<class 'pandas.core.frame.DataFrame'>\n",
      "RangeIndex: 443 entries, 0 to 442\n",
      "Data columns (total 7 columns):\n",
      " #   Column                 Non-Null Count  Dtype \n",
      "---  ------                 --------------  ----- \n",
      " 0   name_id                443 non-null    object\n",
      " 1   name                   443 non-null    object\n",
      " 2   state                  443 non-null    object\n",
      " 3   url                    443 non-null    object\n",
      " 4   chamber                443 non-null    object\n",
      " 5   current_party          443 non-null    object\n",
      " 6   committee_assignments  443 non-null    object\n",
      "dtypes: object(7)\n",
      "memory usage: 24.4+ KB\n"
     ]
    }
   ],
   "source": [
    "#Members data info\n",
    "members_df.info()"
   ]
  },
  {
   "cell_type": "code",
   "execution_count": 16,
   "metadata": {},
   "outputs": [
    {
     "data": {
      "text/html": [
       "<div>\n",
       "<style scoped>\n",
       "    .dataframe tbody tr th:only-of-type {\n",
       "        vertical-align: middle;\n",
       "    }\n",
       "\n",
       "    .dataframe tbody tr th {\n",
       "        vertical-align: top;\n",
       "    }\n",
       "\n",
       "    .dataframe thead th {\n",
       "        text-align: right;\n",
       "    }\n",
       "</style>\n",
       "<table border=\"1\" class=\"dataframe\">\n",
       "  <thead>\n",
       "    <tr style=\"text-align: right;\">\n",
       "      <th></th>\n",
       "      <th>name_id</th>\n",
       "      <th>name</th>\n",
       "      <th>state</th>\n",
       "      <th>url</th>\n",
       "      <th>chamber</th>\n",
       "      <th>current_party</th>\n",
       "      <th>committee_assignments</th>\n",
       "    </tr>\n",
       "  </thead>\n",
       "  <tbody>\n",
       "    <tr>\n",
       "      <th>0</th>\n",
       "      <td>A000374</td>\n",
       "      <td>ralph-abraham</td>\n",
       "      <td>Louisiana</td>\n",
       "      <td>https://www.congress.gov/member/ralph-abraham/...</td>\n",
       "      <td>House</td>\n",
       "      <td>Republican</td>\n",
       "      <td>['Agriculture', 'Armed Services']</td>\n",
       "    </tr>\n",
       "    <tr>\n",
       "      <th>1</th>\n",
       "      <td>A000370</td>\n",
       "      <td>alma-adams</td>\n",
       "      <td>North Carolina</td>\n",
       "      <td>https://www.congress.gov/member/alma-adams/A00...</td>\n",
       "      <td>House</td>\n",
       "      <td>Democratic</td>\n",
       "      <td>['Agriculture', 'Education and Labor', 'Financ...</td>\n",
       "    </tr>\n",
       "    <tr>\n",
       "      <th>2</th>\n",
       "      <td>A000055</td>\n",
       "      <td>robert-aderholt</td>\n",
       "      <td>Alabama</td>\n",
       "      <td>https://www.congress.gov/member/robert-aderhol...</td>\n",
       "      <td>House</td>\n",
       "      <td>Republican</td>\n",
       "      <td>['Appropriations']</td>\n",
       "    </tr>\n",
       "    <tr>\n",
       "      <th>3</th>\n",
       "      <td>A000371</td>\n",
       "      <td>pete-aguilar</td>\n",
       "      <td>California</td>\n",
       "      <td>https://www.congress.gov/member/pete-aguilar/A...</td>\n",
       "      <td>House</td>\n",
       "      <td>Democratic</td>\n",
       "      <td>['Appropriations', 'House Administration']</td>\n",
       "    </tr>\n",
       "    <tr>\n",
       "      <th>4</th>\n",
       "      <td>A000372</td>\n",
       "      <td>rick-allen</td>\n",
       "      <td>Georgia</td>\n",
       "      <td>https://www.congress.gov/member/rick-allen/A00...</td>\n",
       "      <td>House</td>\n",
       "      <td>Republican</td>\n",
       "      <td>['Agriculture', 'Education and Labor']</td>\n",
       "    </tr>\n",
       "  </tbody>\n",
       "</table>\n",
       "</div>"
      ],
      "text/plain": [
       "   name_id             name           state  \\\n",
       "0  A000374    ralph-abraham       Louisiana   \n",
       "1  A000370       alma-adams  North Carolina   \n",
       "2  A000055  robert-aderholt         Alabama   \n",
       "3  A000371     pete-aguilar      California   \n",
       "4  A000372       rick-allen         Georgia   \n",
       "\n",
       "                                                 url chamber current_party  \\\n",
       "0  https://www.congress.gov/member/ralph-abraham/...   House    Republican   \n",
       "1  https://www.congress.gov/member/alma-adams/A00...   House    Democratic   \n",
       "2  https://www.congress.gov/member/robert-aderhol...   House    Republican   \n",
       "3  https://www.congress.gov/member/pete-aguilar/A...   House    Democratic   \n",
       "4  https://www.congress.gov/member/rick-allen/A00...   House    Republican   \n",
       "\n",
       "                               committee_assignments  \n",
       "0                  ['Agriculture', 'Armed Services']  \n",
       "1  ['Agriculture', 'Education and Labor', 'Financ...  \n",
       "2                                 ['Appropriations']  \n",
       "3         ['Appropriations', 'House Administration']  \n",
       "4             ['Agriculture', 'Education and Labor']  "
      ]
     },
     "execution_count": 16,
     "metadata": {},
     "output_type": "execute_result"
    }
   ],
   "source": [
    "#Members table preview\n",
    "members_df.head()"
   ]
  },
  {
   "cell_type": "code",
   "execution_count": 17,
   "metadata": {},
   "outputs": [],
   "source": [
    "#Saves all of the names of the members in a list\n",
    "names = members_df['name']"
   ]
  },
  {
   "cell_type": "code",
   "execution_count": 18,
   "metadata": {},
   "outputs": [],
   "source": [
    "#Joins the rollcallrollcallVotes_df wuth the names column.\n",
    "#This is possible because the name_id key\n",
    "#We now have all representative roll call vote outcomes with their associated name\n",
    "rollcallVotes_df = rollcallVotes_df.join(names)"
   ]
  },
  {
   "cell_type": "code",
   "execution_count": 19,
   "metadata": {},
   "outputs": [
    {
     "data": {
      "text/html": [
       "<div>\n",
       "<style scoped>\n",
       "    .dataframe tbody tr th:only-of-type {\n",
       "        vertical-align: middle;\n",
       "    }\n",
       "\n",
       "    .dataframe tbody tr th {\n",
       "        vertical-align: top;\n",
       "    }\n",
       "\n",
       "    .dataframe thead th {\n",
       "        text-align: right;\n",
       "    }\n",
       "</style>\n",
       "<table border=\"1\" class=\"dataframe\">\n",
       "  <thead>\n",
       "    <tr style=\"text-align: right;\">\n",
       "      <th></th>\n",
       "      <th>name_id</th>\n",
       "      <th>2019:641</th>\n",
       "      <th>2019:639</th>\n",
       "      <th>2019:640</th>\n",
       "      <th>2019:635</th>\n",
       "      <th>2019:636</th>\n",
       "      <th>2019:642</th>\n",
       "      <th>2019:634</th>\n",
       "      <th>2019:637</th>\n",
       "      <th>2019:638</th>\n",
       "      <th>...</th>\n",
       "      <th>2019:625</th>\n",
       "      <th>2019:628</th>\n",
       "      <th>2019:624</th>\n",
       "      <th>2019:620</th>\n",
       "      <th>2019:632</th>\n",
       "      <th>2019:629</th>\n",
       "      <th>2019:631</th>\n",
       "      <th>2019:633</th>\n",
       "      <th>2019:630</th>\n",
       "      <th>name</th>\n",
       "    </tr>\n",
       "  </thead>\n",
       "  <tbody>\n",
       "    <tr>\n",
       "      <th>0</th>\n",
       "      <td>A000374</td>\n",
       "      <td>No</td>\n",
       "      <td>Aye</td>\n",
       "      <td>No</td>\n",
       "      <td>Yea</td>\n",
       "      <td>Yea</td>\n",
       "      <td>No</td>\n",
       "      <td>Nay</td>\n",
       "      <td>Aye</td>\n",
       "      <td>Aye</td>\n",
       "      <td>...</td>\n",
       "      <td>Nay</td>\n",
       "      <td>Nay</td>\n",
       "      <td>No</td>\n",
       "      <td>Aye</td>\n",
       "      <td>Nay</td>\n",
       "      <td>Nay</td>\n",
       "      <td>Nay</td>\n",
       "      <td>Nay</td>\n",
       "      <td>Nay</td>\n",
       "      <td>ralph-abraham</td>\n",
       "    </tr>\n",
       "    <tr>\n",
       "      <th>1</th>\n",
       "      <td>A000370</td>\n",
       "      <td>Aye</td>\n",
       "      <td>Aye</td>\n",
       "      <td>Aye</td>\n",
       "      <td>Yea</td>\n",
       "      <td>Yea</td>\n",
       "      <td>Aye</td>\n",
       "      <td>Yea</td>\n",
       "      <td>No</td>\n",
       "      <td>Aye</td>\n",
       "      <td>...</td>\n",
       "      <td>Yea</td>\n",
       "      <td>Yea</td>\n",
       "      <td>Aye</td>\n",
       "      <td>No</td>\n",
       "      <td>Yea</td>\n",
       "      <td>Yea</td>\n",
       "      <td>Yea</td>\n",
       "      <td>Yea</td>\n",
       "      <td>Yea</td>\n",
       "      <td>alma-adams</td>\n",
       "    </tr>\n",
       "    <tr>\n",
       "      <th>2</th>\n",
       "      <td>A000055</td>\n",
       "      <td>No</td>\n",
       "      <td>Aye</td>\n",
       "      <td>No</td>\n",
       "      <td>Yea</td>\n",
       "      <td>Yea</td>\n",
       "      <td>No</td>\n",
       "      <td>Nay</td>\n",
       "      <td>Aye</td>\n",
       "      <td>Aye</td>\n",
       "      <td>...</td>\n",
       "      <td>Yea</td>\n",
       "      <td>Nay</td>\n",
       "      <td>No</td>\n",
       "      <td>Aye</td>\n",
       "      <td>Nay</td>\n",
       "      <td>Nay</td>\n",
       "      <td>Nay</td>\n",
       "      <td>Nay</td>\n",
       "      <td>Nay</td>\n",
       "      <td>robert-aderholt</td>\n",
       "    </tr>\n",
       "    <tr>\n",
       "      <th>3</th>\n",
       "      <td>A000371</td>\n",
       "      <td>Not Voting</td>\n",
       "      <td>Not Voting</td>\n",
       "      <td>Not Voting</td>\n",
       "      <td>Yea</td>\n",
       "      <td>Yea</td>\n",
       "      <td>Not Voting</td>\n",
       "      <td>Yea</td>\n",
       "      <td>Not Voting</td>\n",
       "      <td>Not Voting</td>\n",
       "      <td>...</td>\n",
       "      <td>Yea</td>\n",
       "      <td>Yea</td>\n",
       "      <td>Aye</td>\n",
       "      <td>No</td>\n",
       "      <td>Yea</td>\n",
       "      <td>Yea</td>\n",
       "      <td>Yea</td>\n",
       "      <td>Yea</td>\n",
       "      <td>Yea</td>\n",
       "      <td>pete-aguilar</td>\n",
       "    </tr>\n",
       "    <tr>\n",
       "      <th>4</th>\n",
       "      <td>A000372</td>\n",
       "      <td>No</td>\n",
       "      <td>Aye</td>\n",
       "      <td>No</td>\n",
       "      <td>Yea</td>\n",
       "      <td>Yea</td>\n",
       "      <td>No</td>\n",
       "      <td>Nay</td>\n",
       "      <td>Aye</td>\n",
       "      <td>Aye</td>\n",
       "      <td>...</td>\n",
       "      <td>Nay</td>\n",
       "      <td>Nay</td>\n",
       "      <td>No</td>\n",
       "      <td>Aye</td>\n",
       "      <td>Nay</td>\n",
       "      <td>Nay</td>\n",
       "      <td>Nay</td>\n",
       "      <td>Nay</td>\n",
       "      <td>Nay</td>\n",
       "      <td>rick-allen</td>\n",
       "    </tr>\n",
       "  </tbody>\n",
       "</table>\n",
       "<p>5 rows × 644 columns</p>\n",
       "</div>"
      ],
      "text/plain": [
       "   name_id    2019:641    2019:639    2019:640 2019:635 2019:636    2019:642  \\\n",
       "0  A000374          No         Aye          No      Yea      Yea          No   \n",
       "1  A000370         Aye         Aye         Aye      Yea      Yea         Aye   \n",
       "2  A000055          No         Aye          No      Yea      Yea          No   \n",
       "3  A000371  Not Voting  Not Voting  Not Voting      Yea      Yea  Not Voting   \n",
       "4  A000372          No         Aye          No      Yea      Yea          No   \n",
       "\n",
       "  2019:634    2019:637    2019:638  ... 2019:625 2019:628 2019:624 2019:620  \\\n",
       "0      Nay         Aye         Aye  ...      Nay      Nay       No      Aye   \n",
       "1      Yea          No         Aye  ...      Yea      Yea      Aye       No   \n",
       "2      Nay         Aye         Aye  ...      Yea      Nay       No      Aye   \n",
       "3      Yea  Not Voting  Not Voting  ...      Yea      Yea      Aye       No   \n",
       "4      Nay         Aye         Aye  ...      Nay      Nay       No      Aye   \n",
       "\n",
       "  2019:632 2019:629 2019:631 2019:633 2019:630             name  \n",
       "0      Nay      Nay      Nay      Nay      Nay    ralph-abraham  \n",
       "1      Yea      Yea      Yea      Yea      Yea       alma-adams  \n",
       "2      Nay      Nay      Nay      Nay      Nay  robert-aderholt  \n",
       "3      Yea      Yea      Yea      Yea      Yea     pete-aguilar  \n",
       "4      Nay      Nay      Nay      Nay      Nay       rick-allen  \n",
       "\n",
       "[5 rows x 644 columns]"
      ]
     },
     "execution_count": 19,
     "metadata": {},
     "output_type": "execute_result"
    }
   ],
   "source": [
    "#Preview of the updated rollcallVotes dataframe\n",
    "#Note the added \"name\" column now appended via the JOIN method \n",
    "rollcallVotes_df.head()"
   ]
  },
  {
   "cell_type": "code",
   "execution_count": 20,
   "metadata": {},
   "outputs": [],
   "source": [
    "#Finds all instance where John cooper voted and create a list\n",
    "cooper = rollcallVotes_df.loc[rollcallVotes_df['name'] == 'james-cooper'].values.flatten().tolist()\n",
    "#Finds all instance where AOC voted and create a list\n",
    "aoc = rollcallVotes_df.loc[rollcallVotes_df['name'] == 'alexandria-ocasio-cortez'].values.flatten().tolist()\n",
    "#Return all the columns of the dataframe as a list type\n",
    "legislation = list(rollcallVotes_df.columns)"
   ]
  },
  {
   "cell_type": "code",
   "execution_count": 21,
   "metadata": {},
   "outputs": [
    {
     "data": {
      "text/plain": [
       "['name_id', '2019:641', '2019:639', '2019:640', '2019:635']"
      ]
     },
     "execution_count": 21,
     "metadata": {},
     "output_type": "execute_result"
    }
   ],
   "source": [
    "#Displaying the list created above\n",
    "legislation[0:5]"
   ]
  },
  {
   "cell_type": "code",
   "execution_count": 54,
   "metadata": {
    "scrolled": true
   },
   "outputs": [
    {
     "data": {
      "text/plain": [
       "['C001110',\n",
       " 'Aye',\n",
       " 'Aye',\n",
       " 'Aye',\n",
       " 'Yea',\n",
       " 'Yea',\n",
       " 'Aye',\n",
       " 'Yea',\n",
       " 'No',\n",
       " 'Aye',\n",
       " 'No',\n",
       " 'No',\n",
       " 'No',\n",
       " 'Yea',\n",
       " 'Aye',\n",
       " 'Yea',\n",
       " 'No',\n",
       " 'Aye',\n",
       " 'No',\n",
       " 'No']"
      ]
     },
     "execution_count": 54,
     "metadata": {},
     "output_type": "execute_result"
    }
   ],
   "source": [
    "#Displaying the list created above\n",
    "cooper[0:20]"
   ]
  },
  {
   "cell_type": "code",
   "execution_count": 55,
   "metadata": {
    "scrolled": true
   },
   "outputs": [
    {
     "data": {
      "text/plain": [
       "['P000604',\n",
       " 'Aye',\n",
       " 'Aye',\n",
       " 'Aye',\n",
       " 'Yea',\n",
       " 'Yea',\n",
       " 'Aye',\n",
       " 'Yea',\n",
       " 'No',\n",
       " 'Aye',\n",
       " 'No',\n",
       " 'No',\n",
       " 'No',\n",
       " 'Yea',\n",
       " 'Aye',\n",
       " 'Yea',\n",
       " 'No',\n",
       " 'Aye',\n",
       " 'No',\n",
       " 'No']"
      ]
     },
     "execution_count": 55,
     "metadata": {},
     "output_type": "execute_result"
    }
   ],
   "source": [
    "#Displaying the list created above\n",
    "aoc[0:20]"
   ]
  },
  {
   "cell_type": "code",
   "execution_count": null,
   "metadata": {},
   "outputs": [],
   "source": []
  },
  {
   "cell_type": "code",
   "execution_count": null,
   "metadata": {},
   "outputs": [],
   "source": []
  },
  {
   "cell_type": "code",
   "execution_count": 46,
   "metadata": {},
   "outputs": [],
   "source": [
    "#Create a voting comparision between Cooper and AOC\n",
    "\n",
    "#creating an empty list\n",
    "comparison = []\n",
    "\n",
    "#for every item in the length of the list cooper, check if the outcome is the same as aoc \n",
    "#Append the comparison list to create a countable list of outcomes\n",
    "\n",
    "for i in range(len(cooper)):\n",
    "    if cooper[i] == aoc[i]:\n",
    "        #Voted the same way\n",
    "        comparison.append('Same')\n",
    "    elif cooper[i] == 'Yea' and aoc[i] == 'Nay':\n",
    "        #Voted where Cooper was yes. AOC was No\n",
    "        comparison.append('Opposite')\n",
    "    elif cooper[i] == 'Nay' and aoc[i] == 'Yea':\n",
    "         #Voted where Cooper was no. AOC was yes\n",
    "        comparison.append('Opposite')\n",
    "    elif cooper[i] == 'Aye' and aoc[i] == 'Nay':\n",
    "        #Voted where Cooper was yes. AOC was No\n",
    "        comparison.append('Opposite')\n",
    "    elif cooper[i] == 'Nay' and aoc[i] == 'Aye':\n",
    "        #Voted where Cooper was no. AOC was yes\n",
    "        comparison.append('Opposite')\n",
    "    else:    \n",
    "        #Voted where on of the two abstained\n",
    "        comparison.append('Different')\n"
   ]
  },
  {
   "cell_type": "code",
   "execution_count": 47,
   "metadata": {},
   "outputs": [
    {
     "data": {
      "text/plain": [
       "550"
      ]
     },
     "execution_count": 47,
     "metadata": {},
     "output_type": "execute_result"
    }
   ],
   "source": [
    "#How many times did they vote the same\n",
    "same = comparison.count('Same')\n",
    "same"
   ]
  },
  {
   "cell_type": "code",
   "execution_count": 48,
   "metadata": {},
   "outputs": [
    {
     "data": {
      "text/plain": [
       "9"
      ]
     },
     "execution_count": 48,
     "metadata": {},
     "output_type": "execute_result"
    }
   ],
   "source": [
    "#How many times did they vote where at least one abstained\n",
    "opposite = comparison.count('Opposite')\n",
    "opposite"
   ]
  },
  {
   "cell_type": "code",
   "execution_count": 49,
   "metadata": {},
   "outputs": [
    {
     "data": {
      "text/plain": [
       "85"
      ]
     },
     "execution_count": 49,
     "metadata": {},
     "output_type": "execute_result"
    }
   ],
   "source": [
    "#How many times did they vote opposite from each other\n",
    "different = comparison.count('Different') \n",
    "different"
   ]
  },
  {
   "cell_type": "code",
   "execution_count": null,
   "metadata": {},
   "outputs": [],
   "source": []
  },
  {
   "cell_type": "code",
   "execution_count": null,
   "metadata": {},
   "outputs": [],
   "source": []
  },
  {
   "cell_type": "code",
   "execution_count": 50,
   "metadata": {},
   "outputs": [
    {
     "data": {
      "text/plain": [
       "85.4"
      ]
     },
     "execution_count": 50,
     "metadata": {},
     "output_type": "execute_result"
    }
   ],
   "source": [
    "#Percent of votes that are the same\n",
    "round(((same/(same + different + opposite)) * 100), 2)"
   ]
  },
  {
   "cell_type": "code",
   "execution_count": 51,
   "metadata": {},
   "outputs": [
    {
     "data": {
      "text/plain": [
       "1.4"
      ]
     },
     "execution_count": 51,
     "metadata": {},
     "output_type": "execute_result"
    }
   ],
   "source": [
    "#Percentage of votes that are \"opposite\" ie. One voted \"Yes\" and the other \"No\"\n",
    "round(((opposite/(same + different + opposite)) * 100), 2)"
   ]
  },
  {
   "cell_type": "code",
   "execution_count": 52,
   "metadata": {},
   "outputs": [
    {
     "data": {
      "text/plain": [
       "13.2"
      ]
     },
     "execution_count": 52,
     "metadata": {},
     "output_type": "execute_result"
    }
   ],
   "source": [
    "#Percent of votes that are the \"different\" Where ate least one person abstained\n",
    "round(((different/(same + different + opposite)) * 100), 2)"
   ]
  },
  {
   "cell_type": "code",
   "execution_count": null,
   "metadata": {},
   "outputs": [],
   "source": []
  },
  {
   "cell_type": "code",
   "execution_count": null,
   "metadata": {},
   "outputs": [],
   "source": []
  },
  {
   "cell_type": "code",
   "execution_count": null,
   "metadata": {},
   "outputs": [],
   "source": []
  },
  {
   "cell_type": "code",
   "execution_count": null,
   "metadata": {},
   "outputs": [],
   "source": []
  },
  {
   "cell_type": "code",
   "execution_count": null,
   "metadata": {},
   "outputs": [],
   "source": []
  },
  {
   "cell_type": "code",
   "execution_count": null,
   "metadata": {},
   "outputs": [],
   "source": [
    "\n"
   ]
  },
  {
   "cell_type": "code",
   "execution_count": null,
   "metadata": {},
   "outputs": [],
   "source": []
  },
  {
   "cell_type": "code",
   "execution_count": null,
   "metadata": {},
   "outputs": [],
   "source": []
  },
  {
   "cell_type": "code",
   "execution_count": null,
   "metadata": {},
   "outputs": [],
   "source": []
  },
  {
   "cell_type": "code",
   "execution_count": null,
   "metadata": {},
   "outputs": [],
   "source": []
  }
 ],
 "metadata": {
  "kernelspec": {
   "display_name": "Python 3 (ipykernel)",
   "language": "python",
   "name": "python3"
  },
  "language_info": {
   "codemirror_mode": {
    "name": "ipython",
    "version": 3
   },
   "file_extension": ".py",
   "mimetype": "text/x-python",
   "name": "python",
   "nbconvert_exporter": "python",
   "pygments_lexer": "ipython3",
   "version": "3.11.5"
  }
 },
 "nbformat": 4,
 "nbformat_minor": 4
}
